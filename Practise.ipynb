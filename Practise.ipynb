{
 "cells": [
  {
   "cell_type": "code",
   "execution_count": 1,
   "id": "5444a671",
   "metadata": {},
   "outputs": [
    {
     "name": "stdout",
     "output_type": "stream",
     "text": [
      "Enter a line: Today is diwali\n",
      "Enter a string: DIWALI\n",
      "DIWALI is a part of Today is diwali\n"
     ]
    }
   ],
   "source": [
    "line = input('Enter a line: ')\n",
    "string = input('Enter a string: ')\n",
    "if string.lower() in line.lower():\n",
    "    print(f'{string} is a part of {line}')\n",
    "else:\n",
    "    print(string,\"is not present in \", line)"
   ]
  },
  {
   "cell_type": "code",
   "execution_count": 2,
   "id": "f2be400b",
   "metadata": {},
   "outputs": [
    {
     "name": "stdout",
     "output_type": "stream",
     "text": [
      "1 ,  1\n",
      "2 ,  4\n",
      "3 ,  9\n",
      "4 ,  16\n"
     ]
    }
   ],
   "source": [
    "for i in [1,2,3,4]:\n",
    "    print(i,\", \",i*i)"
   ]
  },
  {
   "cell_type": "code",
   "execution_count": 5,
   "id": "76a58430",
   "metadata": {},
   "outputs": [
    {
     "name": "stderr",
     "output_type": "stream",
     "text": [
      "<>:1: SyntaxWarning: \"is\" with a literal. Did you mean \"==\"?\n",
      "<>:1: SyntaxWarning: \"is\" with a literal. Did you mean \"==\"?\n",
      "C:\\Users\\tejasc\\AppData\\Local\\Temp/ipykernel_23400/4191586626.py:1: SyntaxWarning: \"is\" with a literal. Did you mean \"==\"?\n",
      "  20 is 20.0\n"
     ]
    },
    {
     "data": {
      "text/plain": [
       "False"
      ]
     },
     "execution_count": 5,
     "metadata": {},
     "output_type": "execute_result"
    }
   ],
   "source": [
    "20 is 20.0"
   ]
  },
  {
   "cell_type": "code",
   "execution_count": 4,
   "id": "821e333c",
   "metadata": {},
   "outputs": [
    {
     "name": "stdout",
     "output_type": "stream",
     "text": [
      "2338861837200 2338942667888\n"
     ]
    }
   ],
   "source": [
    "print(id(20),id(20.0))"
   ]
  },
  {
   "cell_type": "code",
   "execution_count": 7,
   "id": "a3733712",
   "metadata": {},
   "outputs": [
    {
     "data": {
      "text/plain": [
       "104"
      ]
     },
     "execution_count": 7,
     "metadata": {},
     "output_type": "execute_result"
    }
   ],
   "source": [
    "ord('h')"
   ]
  },
  {
   "cell_type": "code",
   "execution_count": null,
   "id": "3b4a4d48",
   "metadata": {},
   "outputs": [],
   "source": [
    "import math\n",
    "x1 = int(input('Enter a no:')) \n",
    "x2 = int(input('Enter a no:'))\n",
    "y1 = int(input('Enter a no:'))\n",
    "y2 = int(input('Enter a no:'))\n",
    "\n",
    "square_x,square_y = (x2-x1)**2, (y2-y11)**2\n",
    "add = square_x+square_y\n",
    "result = add**0.5"
   ]
  },
  {
   "cell_type": "code",
   "execution_count": 10,
   "id": "a938d082",
   "metadata": {},
   "outputs": [
    {
     "name": "stdout",
     "output_type": "stream",
     "text": [
      "Enter a no:1\n",
      "Enter a no:2\n",
      "Enter a no:3\n",
      "(-0.9999999999999999+1.4142135623730951j)\n"
     ]
    }
   ],
   "source": [
    "a = int(input('Enter a no:')) \n",
    "b = int(input('Enter a no:'))\n",
    "c = int(input('Enter a no:'))\n",
    "result = (-b + (((b**2)-(4*a*c))**0.5))/(2*a)\n",
    "print(result)"
   ]
  },
  {
   "cell_type": "code",
   "execution_count": 12,
   "id": "93de235b",
   "metadata": {},
   "outputs": [
    {
     "name": "stdout",
     "output_type": "stream",
     "text": [
      "Enter a number: 20\n",
      "Hello 20\n",
      "Hello 17\n",
      "Hello 14\n",
      "Hello 11\n",
      "Hello 8\n",
      "Loop Ended\n"
     ]
    }
   ],
   "source": [
    "a = int(input('Enter a number: '))\n",
    "while a>5:\n",
    "    print('Hello',a)\n",
    "    a -= 3\n",
    "print('Loop Ended')"
   ]
  },
  {
   "cell_type": "code",
   "execution_count": 15,
   "id": "bcba80fa",
   "metadata": {},
   "outputs": [
    {
     "name": "stdout",
     "output_type": "stream",
     "text": [
      "2 1\n",
      "3 1\n",
      "3 2\n",
      "4 1\n",
      "4 2\n",
      "4 3\n",
      "5 1\n",
      "5 2\n",
      "5 3\n",
      "5 4\n"
     ]
    }
   ],
   "source": [
    "# Find max profit\n",
    "l = [11,22,33,44,55,10]\n",
    "\n",
    "minimum = l[0]\n",
    "maximum = 0\n",
    "\n",
    "for i in l:\n",
    "    if "
   ]
  },
  {
   "cell_type": "code",
   "execution_count": 16,
   "id": "d0b36966",
   "metadata": {},
   "outputs": [
    {
     "data": {
      "text/plain": [
       "4"
      ]
     },
     "execution_count": 16,
     "metadata": {},
     "output_type": "execute_result"
    }
   ],
   "source": [
    "2134%10"
   ]
  },
  {
   "cell_type": "code",
   "execution_count": 17,
   "id": "acbae758",
   "metadata": {},
   "outputs": [
    {
     "data": {
      "text/plain": [
       "213"
      ]
     },
     "execution_count": 17,
     "metadata": {},
     "output_type": "execute_result"
    }
   ],
   "source": [
    "2134//10"
   ]
  },
  {
   "cell_type": "code",
   "execution_count": null,
   "id": "618e44b0",
   "metadata": {},
   "outputs": [],
   "source": []
  }
 ],
 "metadata": {
  "kernelspec": {
   "display_name": "Python 3 (ipykernel)",
   "language": "python",
   "name": "python3"
  },
  "language_info": {
   "codemirror_mode": {
    "name": "ipython",
    "version": 3
   },
   "file_extension": ".py",
   "mimetype": "text/x-python",
   "name": "python",
   "nbconvert_exporter": "python",
   "pygments_lexer": "ipython3",
   "version": "3.9.0"
  }
 },
 "nbformat": 4,
 "nbformat_minor": 5
}
